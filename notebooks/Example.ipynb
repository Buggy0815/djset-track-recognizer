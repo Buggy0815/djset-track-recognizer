{
 "cells": [
  {
   "cell_type": "code",
   "execution_count": 3,
   "id": "16607cc4-b8a7-439e-b624-d485148030a0",
   "metadata": {},
   "outputs": [
    {
     "name": "stdout",
     "output_type": "stream",
     "text": [
      "The autoreload extension is already loaded. To reload it, use:\n",
      "  %reload_ext autoreload\n"
     ]
    }
   ],
   "source": [
    "%load_ext autoreload\n",
    "%autoreload 2"
   ]
  },
  {
   "cell_type": "code",
   "execution_count": 4,
   "id": "88f9ec93-8946-45de-89cd-41e9445086df",
   "metadata": {},
   "outputs": [],
   "source": [
    "import pandas as pd"
   ]
  },
  {
   "cell_type": "code",
   "execution_count": 5,
   "id": "4fff63ca-8796-4638-a33f-3dbe4c57cc9a",
   "metadata": {},
   "outputs": [],
   "source": [
    "import sys\n",
    "sys.path.append('..') "
   ]
  },
  {
   "cell_type": "code",
   "execution_count": 6,
   "id": "55fa689c-f081-4e18-b60f-f9e0ac280c49",
   "metadata": {},
   "outputs": [],
   "source": [
    "from scripts.utils import get_artist_title, whole_audio_to_file, get_tracklist_of_url"
   ]
  },
  {
   "cell_type": "code",
   "execution_count": 7,
   "id": "fed84737-fa24-44ec-87f5-069fde0e5360",
   "metadata": {},
   "outputs": [],
   "source": [
    "url = 'https://soundcloud.com/femdelic/keep-it-hot'"
   ]
  },
  {
   "cell_type": "code",
   "execution_count": 8,
   "id": "0693cdb2-2d63-4a41-aa0e-602222c51624",
   "metadata": {},
   "outputs": [],
   "source": [
    "output_path = '../data/downloads/'"
   ]
  },
  {
   "cell_type": "code",
   "execution_count": 9,
   "id": "a5632cbf-c3eb-414d-8185-98345f837c57",
   "metadata": {},
   "outputs": [
    {
     "name": "stdout",
     "output_type": "stream",
     "text": [
      "[soundcloud] femdelic/keep-it-hot: Downloading info JSON\n",
      "[soundcloud] 447773154: Downloading JSON metadata\n",
      "[soundcloud] 447773154: Downloading JSON metadata\n",
      "[soundcloud] 447773154: Downloading JSON metadata\n",
      "[download] ../data/downloads/complete/femdelic_keep-it-hot.mp3 has already been downloaded\n",
      "[download] 100% of 44.47MiB\n",
      "downloaded\n"
     ]
    }
   ],
   "source": [
    "df = get_tracklist_of_url(url, output_path)"
   ]
  },
  {
   "cell_type": "code",
   "execution_count": 10,
   "id": "542f4d21-aa7d-4e5d-9ca4-b9472d0ab8e3",
   "metadata": {},
   "outputs": [
    {
     "data": {
      "text/html": [
       "<div>\n",
       "<style scoped>\n",
       "    .dataframe tbody tr th:only-of-type {\n",
       "        vertical-align: middle;\n",
       "    }\n",
       "\n",
       "    .dataframe tbody tr th {\n",
       "        vertical-align: top;\n",
       "    }\n",
       "\n",
       "    .dataframe thead th {\n",
       "        text-align: right;\n",
       "    }\n",
       "</style>\n",
       "<table border=\"1\" class=\"dataframe\">\n",
       "  <thead>\n",
       "    <tr style=\"text-align: right;\">\n",
       "      <th></th>\n",
       "      <th>artist</th>\n",
       "      <th>track</th>\n",
       "    </tr>\n",
       "  </thead>\n",
       "  <tbody>\n",
       "    <tr>\n",
       "      <th>1</th>\n",
       "      <td>Serge Ponsar</td>\n",
       "      <td>Out In the Night</td>\n",
       "    </tr>\n",
       "    <tr>\n",
       "      <th>2</th>\n",
       "      <td>Warp 9</td>\n",
       "      <td>Nunk (New Wave Funk)</td>\n",
       "    </tr>\n",
       "    <tr>\n",
       "      <th>3</th>\n",
       "      <td>Heather Haywood</td>\n",
       "      <td>Give It Up</td>\n",
       "    </tr>\n",
       "    <tr>\n",
       "      <th>4</th>\n",
       "      <td>Mofak</td>\n",
       "      <td>Freak With Me</td>\n",
       "    </tr>\n",
       "    <tr>\n",
       "      <th>5</th>\n",
       "      <td>Dogg Master</td>\n",
       "      <td>Poison Apple (feat. B. Thompson)</td>\n",
       "    </tr>\n",
       "    <tr>\n",
       "      <th>6</th>\n",
       "      <td>Laurice Hudson</td>\n",
       "      <td>Feel My Love</td>\n",
       "    </tr>\n",
       "    <tr>\n",
       "      <th>7</th>\n",
       "      <td>Weeks &amp; Co</td>\n",
       "      <td>Go With the Flow</td>\n",
       "    </tr>\n",
       "    <tr>\n",
       "      <th>8</th>\n",
       "      <td>Goldie Alexander</td>\n",
       "      <td>Show You My Love</td>\n",
       "    </tr>\n",
       "    <tr>\n",
       "      <th>9</th>\n",
       "      <td>Ebonee Webb</td>\n",
       "      <td>Something About You</td>\n",
       "    </tr>\n",
       "    <tr>\n",
       "      <th>10</th>\n",
       "      <td>D Train</td>\n",
       "      <td>\"D\" Train (Dub)</td>\n",
       "    </tr>\n",
       "  </tbody>\n",
       "</table>\n",
       "</div>"
      ],
      "text/plain": [
       "              artist                             track\n",
       "1       Serge Ponsar                  Out In the Night\n",
       "2             Warp 9              Nunk (New Wave Funk)\n",
       "3    Heather Haywood                        Give It Up\n",
       "4              Mofak                     Freak With Me\n",
       "5        Dogg Master  Poison Apple (feat. B. Thompson)\n",
       "6     Laurice Hudson                      Feel My Love\n",
       "7         Weeks & Co                  Go With the Flow\n",
       "8   Goldie Alexander                  Show You My Love\n",
       "9        Ebonee Webb               Something About You\n",
       "10           D Train                   \"D\" Train (Dub)"
      ]
     },
     "execution_count": 10,
     "metadata": {},
     "output_type": "execute_result"
    }
   ],
   "source": [
    "df"
   ]
  }
 ],
 "metadata": {
  "kernelspec": {
   "display_name": "Python 3 (ipykernel)",
   "language": "python",
   "name": "python3"
  },
  "language_info": {
   "codemirror_mode": {
    "name": "ipython",
    "version": 3
   },
   "file_extension": ".py",
   "mimetype": "text/x-python",
   "name": "python",
   "nbconvert_exporter": "python",
   "pygments_lexer": "ipython3",
   "version": "3.10.6"
  }
 },
 "nbformat": 4,
 "nbformat_minor": 5
}
